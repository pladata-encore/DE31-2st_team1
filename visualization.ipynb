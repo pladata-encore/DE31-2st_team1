{
 "cells": [
  {
   "cell_type": "code",
   "execution_count": null,
   "metadata": {},
   "outputs": [],
   "source": [
    "import pandas as pd\n",
    "import numpy as np\n",
    "rainfall_train = pd.read_csv('rainfall_train.csv')"
   ]
  },
  {
   "cell_type": "code",
   "execution_count": null,
   "metadata": {},
   "outputs": [],
   "source": [
    "#TM_FC\n",
    "tmp_df = pd.DataFrame()\n",
    "tmp_df['TM_FC'] = rainfall_train.apply(lambda x: f\"{x['rainfall_train.fc_year']}년{format(int(x['rainfall_train.fc_month']),'02')}월{format(int(x['rainfall_train.fc_day']),'02')}일{format(int(x['rainfall_train.fc_hour']),'02')}시\" ,axis=1).to_frame()\n",
    "tmp_df['TM_EF'] = rainfall_train.apply(lambda x: f\"{x['rainfall_train.ef_year']}년{format(int(x['rainfall_train.ef_month']),'02')}월{format(int(x['rainfall_train.ef_day']),'02')}일{format(int(x['rainfall_train.ef_hour']),'02')}시\" ,axis=1).to_frame()\n",
    "tmp_df['DH'] = rainfall_train['rainfall_train.dh']\n",
    "tmp_df['VV'] = rainfall_train['rainfall_train.vv']\n",
    "tmp_df['STN'] = rainfall_train['rainfall_train.stn4contest']\n",
    "tmp_df['V9'] = rainfall_train[\"rainfall_train.v09\"] \n",
    "for i in range(1,9):\n",
    "    tmp_df[f'V{i}'] = rainfall_train[f\"rainfall_train.v{format(i,'02')}\"] - rainfall_train[f\"rainfall_train.v{format(i+1,'02')}\"]\n",
    "tmp_df['class'] = rainfall_train['rainfall_train.class_interval']\n",
    "tmp_df['V0'] = 100-rainfall_train['rainfall_train.v01']\n",
    "tmp_df[\"EF_class\"]= tmp_df.apply(lambda x: np.argmax(np.array([x[f\"V{i}\"]for i in range(10)])), axis=1)"
   ]
  },
  {
   "cell_type": "code",
   "execution_count": null,
   "metadata": {},
   "outputs": [],
   "source": [
    "tmp_df.to_csv('daegun_first.csv',index=False)"
   ]
  }
 ],
 "metadata": {
  "language_info": {
   "name": "python"
  }
 },
 "nbformat": 4,
 "nbformat_minor": 2
}
